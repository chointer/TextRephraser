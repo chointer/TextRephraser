{
 "cells": [
  {
   "cell_type": "code",
   "execution_count": 1,
   "metadata": {},
   "outputs": [],
   "source": [
    "import ollama"
   ]
  },
  {
   "cell_type": "code",
   "execution_count": null,
   "metadata": {},
   "outputs": [
    {
     "data": {
      "text/plain": [
       "{'status': 'success'}"
      ]
     },
     "execution_count": 2,
     "metadata": {},
     "output_type": "execute_result"
    }
   ],
   "source": [
    "ollama.pull(\"llama3.2\")"
   ]
  },
  {
   "cell_type": "code",
   "execution_count": null,
   "metadata": {},
   "outputs": [],
   "source": [
    "### Style\n",
    "prompt_styles = {\n",
    "    \"narrative\": \n",
    "\"\"\"\n",
    "You are a creative writer who rephrases text in a narrative style. Your task is to take the user's input and transform it into a more imaginative, colorful, descriptive and engaging version. Concentrate writing active motions and I recommend using metaphors. \n",
    "\n",
    "Example: \n",
    "User: I closed my eyes and left my heavy body to the natural wind.\n",
    "Assistant: I closed my eyes in the refreshing breeze and let my body, worn out like a leaf drooping heavily after being drenched in rain, be in the peaceful nature.\n",
    "\"\"\",\n",
    "\n",
    "    \"emotional\": \n",
    "\"\"\"\n",
    "You are a creative writer who transforms text into an emotional and expressive style. Your task is to take the user's input and emphasize the feelings, sensations, and atmosphere in a vivid and impactful way.\n",
    "\n",
    "Example:\n",
    "User: After exam, she ran and relished the wind.\n",
    "Assistant: She ran through the cool, refreshing wind, her heart light and unburdened. The weight of the exams melted away with each step, replaced by a soaring sense of relief and pure, unrestrained joy.\n",
    "\"\"\",\n",
    "\n",
    "    \"objective\":\n",
    "\"\"\"\n",
    "You are a creative writer who rephrases text in an objective and neutral style. Your task is to take the user's input and remove emotional context, focusing solely on describing physical actions, movements, and the surrounding environment in a clear and straightforward manner.\n",
    "\n",
    "Example: \n",
    "User: While cars speed up along the road, he walks up with slow, heavy steps.\n",
    "Assistant: He walks along a gentle slope. Cars and bicycles pass by at varying speeds, and he steps aside occasionally to avoid them.\n",
    "\"\"\"\n",
    "}\n",
    "\n",
    "prompt_style_suffix = \"\"\"You may add novel expressions that were not in the original text, but do not take them out of the original context. Never add expressions that create visual differences, such as new objects or emotions. The content of the original text may be reduced, but it should not be contradictory. Therefore, I hope you will change the \"expression\" in the original content to satisfy the above conditions.\"\"\"\n",
    "\n",
    "\n",
    "### Length\n",
    "prompt_length_prefix = \"\"\"You are a writer. Your task is to compress a derived sentence provided alongside its original version, ensuring that no essential information from the original sentence is omitted. The compression must adhere to the specified length constraint; \"\"\"\n",
    "\n",
    "prompt_lengths = {\n",
    "    \"compress\": \"Please respond in half the length of the original text or less.\", \n",
    "    \"maintain\": \"Please keep your response similar in length to the original text.\", \n",
    "    \"expand\": \"Please provide a response that is approximately 1.5 times the length of the original text.\"\n",
    "    }\n",
    "\n",
    "prompt_length_suffix = f\"\\nOutput only the compressed sentence, with no explanations, introductions, or commentary.\"\n"
   ]
  },
  {
   "cell_type": "code",
   "execution_count": 33,
   "metadata": {},
   "outputs": [],
   "source": [
    "### Input\n",
    "input_prompt = \"I found a book in his dark room.\"\n",
    "style_type = \"emotional\"\n",
    "length_type = \"expand\"\n",
    "\n",
    "number_of_words_input = len(input_prompt.split())"
   ]
  },
  {
   "cell_type": "code",
   "execution_count": 35,
   "metadata": {},
   "outputs": [
    {
     "name": "stdout",
     "output_type": "stream",
     "text": [
      "--- [STYLE GENERATOR] ---\n",
      "\n",
      "[SYSTEM]\n",
      " \n",
      "You are a creative writer who transforms text into an emotional and expressive style. Your task is to take the user's input and emphasize the feelings, sensations, and atmosphere in a vivid and impactful way.\n",
      "\n",
      "Example:\n",
      "User: After exam, she ran and relished the wind.\n",
      "Assistant: She ran through the cool, refreshing wind, her heart light and unburdened. The weight of the exams melted away with each step, replaced by a soaring sense of relief and pure, unrestrained joy.\n",
      "You may add novel expressions that were not in the original text, but do not take them out of the original context. Never add expressions that create visual differences, such as new objects or emotions. The content of the original text may be reduced, but it should not be contradictory. Therefore, I hope you will change the \"expression\" in the original content to satisfy the above conditions.\n",
      "\n",
      "[PROMPT]\n",
      "I found a book in his dark room.\n",
      "\n",
      "[RESPONSE]\n",
      " In the depths of a dimly lit space, where shadows danced like restless spirits, she stumbled upon a treasure - a worn leather-bound book, its cover adorned with mysterious symbols that seemed to whisper secrets to her as she touched it. The air was heavy with the weight of forgotten memories and unresolved tales, yet the book's presence radiated an aura of quiet intensity, beckoning her to unravel its hidden stories and unlock the doors of silence. \n",
      "\n",
      "--- [LENGTH GENERATOR; 0] ---\n",
      "\n",
      "[SYSTEM]\n",
      " You are a writer. Your task is to compress a derived sentence provided alongside its original version, ensuring that no essential information from the original sentence is omitted. The compression must adhere to the specified length constraint; Please provide a response that is approximately 1.5 times the length of the original text.\n",
      "Output only the compressed sentence, with no explanations, introductions, or commentary.\n",
      "\n",
      "[PROMPT]\n",
      " original version: I found a book in his dark room.\n",
      "derived version: In the depths of a dimly lit space, where shadows danced like restless spirits, she stumbled upon a treasure - a worn leather-bound book, its cover adorned with mysterious symbols that seemed to whisper secrets to her as she touched it. The air was heavy with the weight of forgotten memories and unresolved tales, yet the book's presence radiated an aura of quiet intensity, beckoning her to unravel its hidden stories and unlock the doors of silence.\n",
      "\n",
      "[RESPONSE]\n",
      " In a dimly lit space, shadows danced around ancient relics; a worn leather-bound book with mysterious symbols lay hidden, awaiting discovery amidst forgotten memories and unresolved tales that whispered secrets as she touched it, radiating an aura of quiet intensity that beckoned her to unravel its stories.\n",
      "--- [LENGTH GENERATOR; 1] ---\n",
      "\n",
      "[SYSTEM]\n",
      " You are a writer. Your task is to compress a derived sentence provided alongside its original version, ensuring that no essential information from the original sentence is omitted. The compression must adhere to the specified length constraint; Please provide a response that is approximately 1.5 times the length of the original text.\n",
      "Output only the compressed sentence, with no explanations, introductions, or commentary.\n",
      "\n",
      "[PROMPT]\n",
      " original version: I found a book in his dark room.\n",
      "derived version: In a dimly lit space, shadows danced around ancient relics; a worn leather-bound book with mysterious symbols lay hidden, awaiting discovery amidst forgotten memories and unresolved tales that whispered secrets as she touched it, radiating an aura of quiet intensity that beckoned her to unravel its stories.\n",
      "\n",
      "[RESPONSE]\n",
      " In a darkened chamber, remnants of the past lingered in silence, veiled from prying eyes, until a lone figure stumbled upon an old, leather-bound tome with mysterious symbols etched into its worn cover, emitting an aura of foreboding intensity that beckoned her to uncover its secrets and unravel the tangled threads of forgotten memories.\n",
      "--- [LENGTH GENERATOR; 2] ---\n",
      "\n",
      "[SYSTEM]\n",
      " You are a writer. Your task is to compress a derived sentence provided alongside its original version, ensuring that no essential information from the original sentence is omitted. The compression must adhere to the specified length constraint; Please provide a response that is approximately 1.5 times the length of the original text.\n",
      "Output only the compressed sentence, with no explanations, introductions, or commentary.\n",
      "\n",
      "[PROMPT]\n",
      " original version: I found a book in his dark room.\n",
      "derived version: In a darkened chamber, remnants of the past lingered in silence, veiled from prying eyes, until a lone figure stumbled upon an old, leather-bound tome with mysterious symbols etched into its worn cover, emitting an aura of foreboding intensity that beckoned her to uncover its secrets and unravel the tangled threads of forgotten memories.\n",
      "\n",
      "[RESPONSE]\n",
      " In a dimly lit chamber, remnants of past secrets remained hidden until a lone figure stumbled upon an old book with mysterious symbols and eerie energy.\n",
      "--- [LENGTH GENERATOR; 3] ---\n",
      "\n",
      "[SYSTEM]\n",
      " You are a writer. Your task is to compress a derived sentence provided alongside its original version, ensuring that no essential information from the original sentence is omitted. The compression must adhere to the specified length constraint; Please provide a response that is approximately 1.5 times the length of the original text.\n",
      "Output only the compressed sentence, with no explanations, introductions, or commentary.\n",
      "\n",
      "[PROMPT]\n",
      " original version: I found a book in his dark room.\n",
      "derived version: In a dimly lit chamber, remnants of past secrets remained hidden until a lone figure stumbled upon an old book with mysterious symbols and eerie energy.\n",
      "\n",
      "[RESPONSE]\n",
      " In a dimly lit chamber where forgotten memories lingered, a lone figure stumbled upon an ancient tome adorned with cryptic symbols and otherworldly aura that hinted at long-buried mysteries within its worn pages.\n",
      "--- [LENGTH GENERATOR; 4] ---\n",
      "\n",
      "[SYSTEM]\n",
      " You are a writer. Your task is to compress a derived sentence provided alongside its original version, ensuring that no essential information from the original sentence is omitted. The compression must adhere to the specified length constraint; Please provide a response that is approximately 1.5 times the length of the original text.\n",
      "Output only the compressed sentence, with no explanations, introductions, or commentary.\n",
      "\n",
      "[PROMPT]\n",
      " original version: I found a book in his dark room.\n",
      "derived version: In a dimly lit chamber where forgotten memories lingered, a lone figure stumbled upon an ancient tome adorned with cryptic symbols and otherworldly aura that hinted at long-buried mysteries within its worn pages.\n",
      "\n",
      "[RESPONSE]\n",
      " In a mysterious, shadowy space, forgotten knowledge waited to be uncovered by an unseen hand.\n"
     ]
    }
   ],
   "source": [
    "print(\"--- [STYLE GENERATOR] ---\")\n",
    "print(\"\\n[SYSTEM]\\n\", prompt_styles[style_type] + prompt_style_suffix)\n",
    "print(\"\\n[PROMPT]\\n\" + \"I found a book in his dark room.\")\n",
    "\n",
    "response_style = ollama.chat(model=\"llama3.2\", messages=[\n",
    "    {\n",
    "        \"role\": \"system\", \"content\": prompt_styles[style_type] + prompt_style_suffix,\n",
    "    },\n",
    "    {\n",
    "        \"role\": \"user\", \"content\": input_prompt,\n",
    "    },\n",
    "])\n",
    "\n",
    "print(\"\\n[RESPONSE]\\n\", response_style[\"message\"][\"content\"], \"\\n\")\n",
    "\n",
    "###\n",
    "\n",
    "response = response_style[\"message\"][\"content\"]\n",
    "\n",
    "for i in range(10):\n",
    "    number_of_words_response = len(response.split())\n",
    "    if length_type == \"compress\" and number_of_words_response <= number_of_words_input * 1.0:\n",
    "        break\n",
    "    elif length_type == \"maintan\" and number_of_words_response > number_of_words_input * 0.5 and number_of_words_response <= number_of_words_input * 1.5:\n",
    "        break\n",
    "    elif length_type == \"expand\" and number_of_words_response > number_of_words_input * 1.5 and number_of_words_response <= number_of_words_input * 3.0:\n",
    "        break\n",
    "    else:\n",
    "        print(f\"--- [LENGTH GENERATOR; {i}] ---\")\n",
    "        print(\"\\n[SYSTEM]\\n\", prompt_length_prefix + prompt_lengths[\"expand\"] + prompt_length_suffix)\n",
    "        print(\"\\n[PROMPT]\\n\", \"original version: \" + input_prompt + \"\\nderived version: \" + response)\n",
    "\n",
    "        response_length = ollama.chat(model=\"llama3.2\", messages=[\n",
    "            {\n",
    "                \"role\": \"system\", \"content\": prompt_length_prefix + prompt_lengths[\"expand\"] + f\" The number of words in the original sentence is {number_of_input_words}. \" + prompt_length_suffix,\n",
    "            },\n",
    "            {\n",
    "                \"role\": \"user\", \"content\": \"original version: \" + input_prompt + \"\\nderived version: \" + response,\n",
    "            },\n",
    "        ])\n",
    "\n",
    "        print(\"\\n[RESPONSE]\\n\", response_length[\"message\"][\"content\"])\n",
    "        response = response_length[\"message\"][\"content\"]\n",
    "\n"
   ]
  },
  {
   "cell_type": "code",
   "execution_count": null,
   "metadata": {},
   "outputs": [
    {
     "data": {
      "text/plain": [
       "{'model': 'llama3.2',\n",
       " 'created_at': '2024-11-18T13:03:31.760552986Z',\n",
       " 'message': {'role': 'assistant',\n",
       "  'content': 'Deep within the somber sanctum of his existence, I stumbled upon a tattered tome, half-hidden beneath the shadows that shrouded the space like a mournful veil. The air was heavy with the weight of forgotten memories, and yet, my eyes were drawn to the book, its worn leather cover creaking softly as if to whisper secrets only it knew. As I opened the cover, a faint scent of aged paper and long-forgotten dreams wafted out, beckoning me to enter a world where words held more power than the darkness that surrounded us both.'},\n",
       " 'done_reason': 'stop',\n",
       " 'done': True,\n",
       " 'total_duration': 20350236128,\n",
       " 'load_duration': 4633712157,\n",
       " 'prompt_eval_count': 236,\n",
       " 'prompt_eval_duration': 7322150000,\n",
       " 'eval_count': 119,\n",
       " 'eval_duration': 8328273000}"
      ]
     },
     "execution_count": 6,
     "metadata": {},
     "output_type": "execute_result"
    }
   ],
   "source": []
  }
 ],
 "metadata": {
  "kernelspec": {
   "display_name": "pslab9",
   "language": "python",
   "name": "python3"
  },
  "language_info": {
   "codemirror_mode": {
    "name": "ipython",
    "version": 3
   },
   "file_extension": ".py",
   "mimetype": "text/x-python",
   "name": "python",
   "nbconvert_exporter": "python",
   "pygments_lexer": "ipython3",
   "version": "3.10.15"
  }
 },
 "nbformat": 4,
 "nbformat_minor": 2
}
